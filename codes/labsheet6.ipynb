{
 "cells": [
  {
   "cell_type": "markdown",
   "id": "1d7617d4",
   "metadata": {},
   "source": [
    "# A1. \n",
    "Write a function to calculate the entropy associated with your dataset. (If your dataset contains \n",
    "only continuous numeric data for outcome (a regression problem), employ equal width binning and \n",
    "divide your data into 4 bins. Each bin may be considered as a categorical data value. Write a function \n",
    "for equal width binning). "
   ]
  },
  {
   "cell_type": "code",
   "execution_count": 9,
   "id": "bbc5e293",
   "metadata": {},
   "outputs": [
    {
     "name": "stdout",
     "output_type": "stream",
     "text": [
      "1.584962500721156\n"
     ]
    }
   ],
   "source": [
    "import pandas as pd\n",
    "import numpy as np\n",
    "\n",
    "def func1(dataset):\n",
    "    df = pd.read_csv(dataset)\n",
    "\n",
    "    count = df['Species'].value_counts()\n",
    "    probs = count/len(df)\n",
    "    prob_ent = -np.sum(probs*np.log2(probs))\n",
    "    return prob_ent\n",
    "\n",
    "f1 = func1(\"Iris.csv\")\n",
    "print(f1)"
   ]
  },
  {
   "cell_type": "markdown",
   "id": "2f9cc137",
   "metadata": {},
   "source": [
    "# A2\n",
    "Calculate the Gini index value for your dataset."
   ]
  },
  {
   "cell_type": "code",
   "execution_count": null,
   "id": "a94701b2",
   "metadata": {},
   "outputs": [
    {
     "name": "stdout",
     "output_type": "stream",
     "text": [
      "2.6666666666666665\n"
     ]
    }
   ],
   "source": [
    "def func2(dataset):\n",
    "    df = pd.read_csv(dataset)\n",
    "    count = df['Species'].value_counts()\n",
    "    probs = count/len(df)\n",
    "    op = np.sum(1-probs**2)\n",
    "    return op\n",
    "\n",
    "f = func2(\"Iris.csv\")\n",
    "print(f)"
   ]
  },
  {
   "cell_type": "markdown",
   "id": "06c2880c",
   "metadata": {},
   "source": [
    "# A3\n",
    "\n",
    "Write your own module for detecting the feature / attribute for the root note of a Decision Tree. \n",
    "Use Information gain as the impurity measure for identifying the root node. Assume that the \n",
    "features are categorical or could be converted to categorical by binning."
   ]
  },
  {
   "cell_type": "code",
   "execution_count": null,
   "id": "5428ecae",
   "metadata": {},
   "outputs": [],
   "source": []
  }
 ],
 "metadata": {
  "kernelspec": {
   "display_name": "Python 3",
   "language": "python",
   "name": "python3"
  },
  "language_info": {
   "codemirror_mode": {
    "name": "ipython",
    "version": 3
   },
   "file_extension": ".py",
   "mimetype": "text/x-python",
   "name": "python",
   "nbconvert_exporter": "python",
   "pygments_lexer": "ipython3",
   "version": "3.12.4"
  }
 },
 "nbformat": 4,
 "nbformat_minor": 5
}
