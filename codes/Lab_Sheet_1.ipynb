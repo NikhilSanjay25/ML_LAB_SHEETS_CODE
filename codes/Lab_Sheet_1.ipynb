{
 "cells": [
  {
   "cell_type": "markdown",
   "id": "c6d80fa9-0933-4b9b-9079-a692003ca5a4",
   "metadata": {},
   "source": [
    "# Author:  CSE23269 - Andrew Tom Mathew\n",
    "## LabSheet 1 - Answers\n",
    "\n"
   ]
  },
  {
   "cell_type": "markdown",
   "id": "4bc71c09-0481-4282-ba5b-e1d709b86a45",
   "metadata": {},
   "source": [
    "### Question 1\n",
    "\n",
    "Consider the given list as [2, 7, 4, 1, 3, 6]. Write a program to count pairs of elements with \n",
    "sum equal to 10. "
   ]
  },
  {
   "cell_type": "code",
   "execution_count": 3,
   "id": "a70fd616-00c4-4c01-b5bc-12a6e1ed2bea",
   "metadata": {},
   "outputs": [
    {
     "name": "stdout",
     "output_type": "stream",
     "text": [
      "Pair: 2 7\n",
      "Pair: 3 6\n",
      "Total pairs: 2\n"
     ]
    }
   ],
   "source": [
    "arr = [2, 7, 4, 1, 3, 6]\n",
    "val = 9\n",
    "\n",
    "def count_pairs(arr, val):\n",
    "    c=0\n",
    "    l = len(arr)\n",
    "    for i in range(l):\n",
    "        for j in range(i + 1, l):\n",
    "            if arr[i] + arr[j] == val:\n",
    "                print(\"Pair:\", arr[i], arr[j])\n",
    "                c += 1\n",
    "    return c\n",
    "\n",
    "result = count_pairs(arr, val)\n",
    "print(\"Total pairs:\", result)\n",
    "\n"
   ]
  },
  {
   "cell_type": "markdown",
   "id": "9cc194f7-f8a3-4f6f-b48e-fbd43a9f1868",
   "metadata": {},
   "source": [
    "### Question 2\n",
    "\n",
    "Write a program that takes a list of real numbers as input and returns the range (difference \n",
    "between minimum and maximum) of the list. Check for list being less than 3 elements in \n",
    "which case return an error message (Ex: “Range determination not possible”). Given a list \n",
    "[5,3,8,1,0,4], the range is 8 (8-0). "
   ]
  },
  {
   "cell_type": "code",
   "execution_count": 4,
   "id": "87452941-2381-4feb-bb61-6d1a05c66c40",
   "metadata": {},
   "outputs": [
    {
     "name": "stdout",
     "output_type": "stream",
     "text": [
      "Range: 8\n"
     ]
    }
   ],
   "source": [
    "def find_range(arr):\n",
    "    if len(arr) < 3:\n",
    "        return \"Range determination not possible\"\n",
    "    else:\n",
    "        return max(arr)-min(arr)\n",
    "\n",
    "arr = [5, 3, 8, 1, 0, 4]\n",
    "result = find_range(arr)\n",
    "print(\"Range:\", result)"
   ]
  },
  {
   "cell_type": "markdown",
   "id": "8b5287ed-2681-4f64-a823-f1ceb859fbf4",
   "metadata": {},
   "source": [
    "### Question 3\n",
    "Write a program that accepts a square matrix A and a positive integer m as arguments and \n",
    "returns Am."
   ]
  },
  {
   "cell_type": "code",
   "execution_count": 8,
   "id": "32a0ac1e-6052-4e9b-beab-b44c01c2443e",
   "metadata": {},
   "outputs": [
    {
     "name": "stdout",
     "output_type": "stream",
     "text": [
      "matrix power:\n",
      " [[14 13]\n",
      " [13 14]]\n"
     ]
    }
   ],
   "source": [
    "import numpy as np\n",
    "\n",
    "def mp(mat, power):\n",
    "    mat = np.array(mat)\n",
    "    rows, cols = mat.shape\n",
    "    if rows != cols:\n",
    "        return \"not a square matrix\"\n",
    "    return np.linalg.matrix_power(mat, power)\n",
    "\n",
    "mat = [[2, 1], [1, 2]]\n",
    "power = 3\n",
    "result = mp(mat, power)\n",
    "print(\"matrix power:\\n\", result)"
   ]
  },
  {
   "cell_type": "markdown",
   "id": "3ccdac4a-5a42-419f-9a25-435b609a76ac",
   "metadata": {},
   "source": [
    "### Question 4\n",
    "\n",
    "Write a program to count the highest occurring character & its occurrence count in an input \n",
    "string. Consider only alphabets. Ex:  for “hippopotamus” as input string, the maximally \n",
    "occurring character is ‘p’ & occurrence count is 3. "
   ]
  },
  {
   "cell_type": "code",
   "execution_count": 10,
   "id": "09d7ffd3-ef75-4854-ab2f-d8882df1c11d",
   "metadata": {},
   "outputs": [
    {
     "name": "stdout",
     "output_type": "stream",
     "text": [
      "Highest character: p\n",
      "Count: 3\n"
     ]
    }
   ],
   "source": [
    "def max_char_count(text):\n",
    "    text = text.lower()\n",
    "    letters = [c for c in text if c.isalpha()]\n",
    "    letter_count = {char: letters.count(char) for char in set(letters)}\n",
    "    if not letter_count:\n",
    "        return \"No letters found\"\n",
    "    max_char = max(letter_count, key=letter_count.get)\n",
    "    max_count = letter_count[max_char]\n",
    "    return max_char, max_count\n",
    "\n",
    "text = \"hippopotamus\"\n",
    "char, count = max_char_count(text)\n",
    "print(\"Highest character:\", char)\n",
    "print(\"Count:\", count)\n"
   ]
  }
 ],
 "metadata": {
  "kernelspec": {
   "display_name": "Python 3 (ipykernel)",
   "language": "python",
   "name": "python3"
  },
  "language_info": {
   "codemirror_mode": {
    "name": "ipython",
    "version": 3
   },
   "file_extension": ".py",
   "mimetype": "text/x-python",
   "name": "python",
   "nbconvert_exporter": "python",
   "pygments_lexer": "ipython3",
   "version": "3.12.4"
  }
 },
 "nbformat": 4,
 "nbformat_minor": 5
}
